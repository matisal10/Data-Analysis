{
  "metadata": {
    "language_info": {
      "codemirror_mode": {
        "name": "python",
        "version": 3
      },
      "file_extension": ".py",
      "mimetype": "text/x-python",
      "name": "python",
      "nbconvert_exporter": "python",
      "pygments_lexer": "ipython3",
      "version": "3.8"
    },
    "kernelspec": {
      "name": "python",
      "display_name": "Python (Pyodide)",
      "language": "python"
    }
  },
  "nbformat_minor": 4,
  "nbformat": 4,
  "cells": [
    {
      "cell_type": "code",
      "source": "dataframe",
      "metadata": {
        "trusted": true
      },
      "execution_count": 15,
      "outputs": [
        {
          "execution_count": 15,
          "output_type": "execute_result",
          "data": {
            "text/plain": "  Nombre  Edad       Pais Automovil\n0   Juan    35     Mexico        No\n1  Pedro    41   Honduras        Si\n2  Maria    28       Peru        Si\n3  Laura    66  Argentina        No",
            "text/html": "<div>\n<style scoped>\n    .dataframe tbody tr th:only-of-type {\n        vertical-align: middle;\n    }\n\n    .dataframe tbody tr th {\n        vertical-align: top;\n    }\n\n    .dataframe thead th {\n        text-align: right;\n    }\n</style>\n<table border=\"1\" class=\"dataframe\">\n  <thead>\n    <tr style=\"text-align: right;\">\n      <th></th>\n      <th>Nombre</th>\n      <th>Edad</th>\n      <th>Pais</th>\n      <th>Automovil</th>\n    </tr>\n  </thead>\n  <tbody>\n    <tr>\n      <th>0</th>\n      <td>Juan</td>\n      <td>35</td>\n      <td>Mexico</td>\n      <td>No</td>\n    </tr>\n    <tr>\n      <th>1</th>\n      <td>Pedro</td>\n      <td>41</td>\n      <td>Honduras</td>\n      <td>Si</td>\n    </tr>\n    <tr>\n      <th>2</th>\n      <td>Maria</td>\n      <td>28</td>\n      <td>Peru</td>\n      <td>Si</td>\n    </tr>\n    <tr>\n      <th>3</th>\n      <td>Laura</td>\n      <td>66</td>\n      <td>Argentina</td>\n      <td>No</td>\n    </tr>\n  </tbody>\n</table>\n</div>"
          },
          "metadata": {}
        }
      ]
    },
    {
      "cell_type": "code",
      "source": "import pandas as pd",
      "metadata": {
        "trusted": true
      },
      "execution_count": 8,
      "outputs": []
    },
    {
      "cell_type": "code",
      "source": "dataframe = pd.read_csv(r'dataframe.csv')",
      "metadata": {
        "tags": [],
        "trusted": true
      },
      "execution_count": 14,
      "outputs": []
    },
    {
      "cell_type": "code",
      "source": "#cuidad con el tipo de uncode soluciones posibles sacar los acentos o cambiar el tipode uncode del archivo\n",
      "metadata": {},
      "execution_count": null,
      "outputs": []
    },
    {
      "cell_type": "code",
      "source": "dataframe['Nombre']",
      "metadata": {
        "trusted": true
      },
      "execution_count": 17,
      "outputs": [
        {
          "execution_count": 17,
          "output_type": "execute_result",
          "data": {
            "text/plain": "0     Juan\n1    Pedro\n2    Maria\n3    Laura\nName: Nombre, dtype: object"
          },
          "metadata": {}
        }
      ]
    },
    {
      "cell_type": "code",
      "source": "dataframe.Edad",
      "metadata": {
        "trusted": true
      },
      "execution_count": 20,
      "outputs": [
        {
          "execution_count": 20,
          "output_type": "execute_result",
          "data": {
            "text/plain": "0    35\n1    41\n2    28\n3    66\nName: Edad, dtype: int64"
          },
          "metadata": {}
        }
      ]
    },
    {
      "cell_type": "code",
      "source": "dataframe.shape",
      "metadata": {
        "trusted": true
      },
      "execution_count": 21,
      "outputs": [
        {
          "execution_count": 21,
          "output_type": "execute_result",
          "data": {
            "text/plain": "(4, 4)"
          },
          "metadata": {}
        }
      ]
    },
    {
      "cell_type": "code",
      "source": "dataframe.info()",
      "metadata": {
        "trusted": true
      },
      "execution_count": 22,
      "outputs": [
        {
          "name": "stdout",
          "text": "<class 'pandas.core.frame.DataFrame'>\nRangeIndex: 4 entries, 0 to 3\nData columns (total 4 columns):\n #   Column     Non-Null Count  Dtype \n---  ------     --------------  ----- \n 0   Nombre     4 non-null      object\n 1   Edad       4 non-null      int64 \n 2   Pais       4 non-null      object\n 3   Automovil  4 non-null      object\ndtypes: int64(1), object(3)\nmemory usage: 148.0+ bytes\n",
          "output_type": "stream"
        }
      ]
    },
    {
      "cell_type": "code",
      "source": "dataframe.Edad.value_counts()",
      "metadata": {
        "trusted": true
      },
      "execution_count": 23,
      "outputs": [
        {
          "execution_count": 23,
          "output_type": "execute_result",
          "data": {
            "text/plain": "35    1\n41    1\n28    1\n66    1\nName: Edad, dtype: int64"
          },
          "metadata": {}
        }
      ]
    },
    {
      "cell_type": "code",
      "source": "dataframe.sort_values(by=['Nombre','Edad'])\n",
      "metadata": {
        "trusted": true
      },
      "execution_count": 32,
      "outputs": [
        {
          "execution_count": 32,
          "output_type": "execute_result",
          "data": {
            "text/plain": "  Nombre  Edad       Pais Automovil\n0   Juan    35     Mexico        No\n3  Laura    66  Argentina        No\n2  Maria    28       Peru        Si\n1  Pedro    41   Honduras        Si",
            "text/html": "<div>\n<style scoped>\n    .dataframe tbody tr th:only-of-type {\n        vertical-align: middle;\n    }\n\n    .dataframe tbody tr th {\n        vertical-align: top;\n    }\n\n    .dataframe thead th {\n        text-align: right;\n    }\n</style>\n<table border=\"1\" class=\"dataframe\">\n  <thead>\n    <tr style=\"text-align: right;\">\n      <th></th>\n      <th>Nombre</th>\n      <th>Edad</th>\n      <th>Pais</th>\n      <th>Automovil</th>\n    </tr>\n  </thead>\n  <tbody>\n    <tr>\n      <th>0</th>\n      <td>Juan</td>\n      <td>35</td>\n      <td>Mexico</td>\n      <td>No</td>\n    </tr>\n    <tr>\n      <th>3</th>\n      <td>Laura</td>\n      <td>66</td>\n      <td>Argentina</td>\n      <td>No</td>\n    </tr>\n    <tr>\n      <th>2</th>\n      <td>Maria</td>\n      <td>28</td>\n      <td>Peru</td>\n      <td>Si</td>\n    </tr>\n    <tr>\n      <th>1</th>\n      <td>Pedro</td>\n      <td>41</td>\n      <td>Honduras</td>\n      <td>Si</td>\n    </tr>\n  </tbody>\n</table>\n</div>"
          },
          "metadata": {}
        }
      ]
    },
    {
      "cell_type": "code",
      "source": "dataframe.Pais.value_counts(ascending=True)",
      "metadata": {
        "trusted": true
      },
      "execution_count": 35,
      "outputs": [
        {
          "execution_count": 35,
          "output_type": "execute_result",
          "data": {
            "text/plain": "Mexico       1\nHonduras     1\nPeru         1\nArgentina    1\nName: Pais, dtype: int64"
          },
          "metadata": {}
        }
      ]
    },
    {
      "cell_type": "code",
      "source": "dataframe[dataframe.Pais.str.contains('A')]",
      "metadata": {
        "trusted": true
      },
      "execution_count": 38,
      "outputs": [
        {
          "execution_count": 38,
          "output_type": "execute_result",
          "data": {
            "text/plain": "  Nombre  Edad       Pais Automovil\n3  Laura    66  Argentina        No",
            "text/html": "<div>\n<style scoped>\n    .dataframe tbody tr th:only-of-type {\n        vertical-align: middle;\n    }\n\n    .dataframe tbody tr th {\n        vertical-align: top;\n    }\n\n    .dataframe thead th {\n        text-align: right;\n    }\n</style>\n<table border=\"1\" class=\"dataframe\">\n  <thead>\n    <tr style=\"text-align: right;\">\n      <th></th>\n      <th>Nombre</th>\n      <th>Edad</th>\n      <th>Pais</th>\n      <th>Automovil</th>\n    </tr>\n  </thead>\n  <tbody>\n    <tr>\n      <th>3</th>\n      <td>Laura</td>\n      <td>66</td>\n      <td>Argentina</td>\n      <td>No</td>\n    </tr>\n  </tbody>\n</table>\n</div>"
          },
          "metadata": {}
        }
      ]
    },
    {
      "cell_type": "code",
      "source": "dataframe.set_index('Pais',inplace=True)",
      "metadata": {
        "trusted": true
      },
      "execution_count": 39,
      "outputs": []
    },
    {
      "cell_type": "code",
      "source": "dataframe",
      "metadata": {
        "trusted": true
      },
      "execution_count": 40,
      "outputs": [
        {
          "execution_count": 40,
          "output_type": "execute_result",
          "data": {
            "text/plain": "          Nombre  Edad Automovil\nPais                            \nMexico      Juan    35        No\nHonduras   Pedro    41        Si\nPeru       Maria    28        Si\nArgentina  Laura    66        No",
            "text/html": "<div>\n<style scoped>\n    .dataframe tbody tr th:only-of-type {\n        vertical-align: middle;\n    }\n\n    .dataframe tbody tr th {\n        vertical-align: top;\n    }\n\n    .dataframe thead th {\n        text-align: right;\n    }\n</style>\n<table border=\"1\" class=\"dataframe\">\n  <thead>\n    <tr style=\"text-align: right;\">\n      <th></th>\n      <th>Nombre</th>\n      <th>Edad</th>\n      <th>Automovil</th>\n    </tr>\n    <tr>\n      <th>Pais</th>\n      <th></th>\n      <th></th>\n      <th></th>\n    </tr>\n  </thead>\n  <tbody>\n    <tr>\n      <th>Mexico</th>\n      <td>Juan</td>\n      <td>35</td>\n      <td>No</td>\n    </tr>\n    <tr>\n      <th>Honduras</th>\n      <td>Pedro</td>\n      <td>41</td>\n      <td>Si</td>\n    </tr>\n    <tr>\n      <th>Peru</th>\n      <td>Maria</td>\n      <td>28</td>\n      <td>Si</td>\n    </tr>\n    <tr>\n      <th>Argentina</th>\n      <td>Laura</td>\n      <td>66</td>\n      <td>No</td>\n    </tr>\n  </tbody>\n</table>\n</div>"
          },
          "metadata": {}
        }
      ]
    },
    {
      "cell_type": "code",
      "source": "dataframe.reset_index(inplace=True)",
      "metadata": {
        "trusted": true
      },
      "execution_count": 41,
      "outputs": []
    },
    {
      "cell_type": "code",
      "source": "dataframe",
      "metadata": {
        "trusted": true
      },
      "execution_count": 42,
      "outputs": [
        {
          "execution_count": 42,
          "output_type": "execute_result",
          "data": {
            "text/plain": "        Pais Nombre  Edad Automovil\n0     Mexico   Juan    35        No\n1   Honduras  Pedro    41        Si\n2       Peru  Maria    28        Si\n3  Argentina  Laura    66        No",
            "text/html": "<div>\n<style scoped>\n    .dataframe tbody tr th:only-of-type {\n        vertical-align: middle;\n    }\n\n    .dataframe tbody tr th {\n        vertical-align: top;\n    }\n\n    .dataframe thead th {\n        text-align: right;\n    }\n</style>\n<table border=\"1\" class=\"dataframe\">\n  <thead>\n    <tr style=\"text-align: right;\">\n      <th></th>\n      <th>Pais</th>\n      <th>Nombre</th>\n      <th>Edad</th>\n      <th>Automovil</th>\n    </tr>\n  </thead>\n  <tbody>\n    <tr>\n      <th>0</th>\n      <td>Mexico</td>\n      <td>Juan</td>\n      <td>35</td>\n      <td>No</td>\n    </tr>\n    <tr>\n      <th>1</th>\n      <td>Honduras</td>\n      <td>Pedro</td>\n      <td>41</td>\n      <td>Si</td>\n    </tr>\n    <tr>\n      <th>2</th>\n      <td>Peru</td>\n      <td>Maria</td>\n      <td>28</td>\n      <td>Si</td>\n    </tr>\n    <tr>\n      <th>3</th>\n      <td>Argentina</td>\n      <td>Laura</td>\n      <td>66</td>\n      <td>No</td>\n    </tr>\n  </tbody>\n</table>\n</div>"
          },
          "metadata": {}
        }
      ]
    },
    {
      "cell_type": "code",
      "source": "list(dataframe.groupby('Pais'))",
      "metadata": {
        "trusted": true
      },
      "execution_count": 45,
      "outputs": [
        {
          "execution_count": 45,
          "output_type": "execute_result",
          "data": {
            "text/plain": "[('Argentina',\n          Pais Nombre  Edad Automovil\n  3  Argentina  Laura    66        No),\n ('Honduras',\n         Pais Nombre  Edad Automovil\n  1  Honduras  Pedro    41        Si),\n ('Mexico',\n       Pais Nombre  Edad Automovil\n  0  Mexico   Juan    35        No),\n ('Peru',\n     Pais Nombre  Edad Automovil\n  2  Peru  Maria    28        Si)]"
          },
          "metadata": {}
        }
      ]
    },
    {
      "cell_type": "code",
      "source": "for group_key, group_value in dataframe.groupby('Pais'):\n    print(group_key)\n    print(group_value)",
      "metadata": {
        "trusted": true
      },
      "execution_count": 46,
      "outputs": [
        {
          "name": "stdout",
          "text": "Argentina\n        Pais Nombre  Edad Automovil\n3  Argentina  Laura    66        No\nHonduras\n       Pais Nombre  Edad Automovil\n1  Honduras  Pedro    41        Si\nMexico\n     Pais Nombre  Edad Automovil\n0  Mexico   Juan    35        No\nPeru\n   Pais Nombre  Edad Automovil\n2  Peru  Maria    28        Si\n",
          "output_type": "stream"
        }
      ]
    },
    {
      "cell_type": "code",
      "source": "dataframe.groupby(['Pais','Edad','Nombre']).agg(['min','max','count'])",
      "metadata": {
        "trusted": true
      },
      "execution_count": 48,
      "outputs": [
        {
          "execution_count": 48,
          "output_type": "execute_result",
          "data": {
            "text/plain": "                      Automovil          \n                            min max count\nPais      Edad Nombre                    \nArgentina 66   Laura         No  No     1\nHonduras  41   Pedro         Si  Si     1\nMexico    35   Juan          No  No     1\nPeru      28   Maria         Si  Si     1",
            "text/html": "<div>\n<style scoped>\n    .dataframe tbody tr th:only-of-type {\n        vertical-align: middle;\n    }\n\n    .dataframe tbody tr th {\n        vertical-align: top;\n    }\n\n    .dataframe thead tr th {\n        text-align: left;\n    }\n\n    .dataframe thead tr:last-of-type th {\n        text-align: right;\n    }\n</style>\n<table border=\"1\" class=\"dataframe\">\n  <thead>\n    <tr>\n      <th></th>\n      <th></th>\n      <th></th>\n      <th colspan=\"3\" halign=\"left\">Automovil</th>\n    </tr>\n    <tr>\n      <th></th>\n      <th></th>\n      <th></th>\n      <th>min</th>\n      <th>max</th>\n      <th>count</th>\n    </tr>\n    <tr>\n      <th>Pais</th>\n      <th>Edad</th>\n      <th>Nombre</th>\n      <th></th>\n      <th></th>\n      <th></th>\n    </tr>\n  </thead>\n  <tbody>\n    <tr>\n      <th>Argentina</th>\n      <th>66</th>\n      <th>Laura</th>\n      <td>No</td>\n      <td>No</td>\n      <td>1</td>\n    </tr>\n    <tr>\n      <th>Honduras</th>\n      <th>41</th>\n      <th>Pedro</th>\n      <td>Si</td>\n      <td>Si</td>\n      <td>1</td>\n    </tr>\n    <tr>\n      <th>Mexico</th>\n      <th>35</th>\n      <th>Juan</th>\n      <td>No</td>\n      <td>No</td>\n      <td>1</td>\n    </tr>\n    <tr>\n      <th>Peru</th>\n      <th>28</th>\n      <th>Maria</th>\n      <td>Si</td>\n      <td>Si</td>\n      <td>1</td>\n    </tr>\n  </tbody>\n</table>\n</div>"
          },
          "metadata": {}
        }
      ]
    },
    {
      "cell_type": "code",
      "source": "dataframe.groupby(['Edad','Pais','Nombre']).agg({'Edad':['min','max','count']})",
      "metadata": {
        "trusted": true
      },
      "execution_count": 50,
      "outputs": [
        {
          "execution_count": 50,
          "output_type": "execute_result",
          "data": {
            "text/plain": "                      Edad          \n                       min max count\nEdad Pais      Nombre               \n28   Peru      Maria    28  28     1\n35   Mexico    Juan     35  35     1\n41   Honduras  Pedro    41  41     1\n66   Argentina Laura    66  66     1",
            "text/html": "<div>\n<style scoped>\n    .dataframe tbody tr th:only-of-type {\n        vertical-align: middle;\n    }\n\n    .dataframe tbody tr th {\n        vertical-align: top;\n    }\n\n    .dataframe thead tr th {\n        text-align: left;\n    }\n\n    .dataframe thead tr:last-of-type th {\n        text-align: right;\n    }\n</style>\n<table border=\"1\" class=\"dataframe\">\n  <thead>\n    <tr>\n      <th></th>\n      <th></th>\n      <th></th>\n      <th colspan=\"3\" halign=\"left\">Edad</th>\n    </tr>\n    <tr>\n      <th></th>\n      <th></th>\n      <th></th>\n      <th>min</th>\n      <th>max</th>\n      <th>count</th>\n    </tr>\n    <tr>\n      <th>Edad</th>\n      <th>Pais</th>\n      <th>Nombre</th>\n      <th></th>\n      <th></th>\n      <th></th>\n    </tr>\n  </thead>\n  <tbody>\n    <tr>\n      <th>28</th>\n      <th>Peru</th>\n      <th>Maria</th>\n      <td>28</td>\n      <td>28</td>\n      <td>1</td>\n    </tr>\n    <tr>\n      <th>35</th>\n      <th>Mexico</th>\n      <th>Juan</th>\n      <td>35</td>\n      <td>35</td>\n      <td>1</td>\n    </tr>\n    <tr>\n      <th>41</th>\n      <th>Honduras</th>\n      <th>Pedro</th>\n      <td>41</td>\n      <td>41</td>\n      <td>1</td>\n    </tr>\n    <tr>\n      <th>66</th>\n      <th>Argentina</th>\n      <th>Laura</th>\n      <td>66</td>\n      <td>66</td>\n      <td>1</td>\n    </tr>\n  </tbody>\n</table>\n</div>"
          },
          "metadata": {}
        }
      ]
    },
    {
      "cell_type": "code",
      "source": "",
      "metadata": {},
      "execution_count": null,
      "outputs": []
    }
  ]
}